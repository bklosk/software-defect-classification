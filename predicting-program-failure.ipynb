{
 "cells": [
  {
   "cell_type": "code",
   "execution_count": 1,
   "id": "f6e1569f",
   "metadata": {
    "_cell_guid": "b1076dfc-b9ad-4769-8c92-a6c4dae69d19",
    "_uuid": "8f2839f25d086af736a60e9eeb907d3b93b6e0e5",
    "execution": {
     "iopub.execute_input": "2023-10-19T04:14:21.105406Z",
     "iopub.status.busy": "2023-10-19T04:14:21.105026Z",
     "iopub.status.idle": "2023-10-19T04:14:23.434048Z",
     "shell.execute_reply": "2023-10-19T04:14:23.432950Z"
    },
    "papermill": {
     "duration": 2.336281,
     "end_time": "2023-10-19T04:14:23.437019",
     "exception": false,
     "start_time": "2023-10-19T04:14:21.100738",
     "status": "completed"
    },
    "tags": []
   },
   "outputs": [
    {
     "name": "stdout",
     "output_type": "stream",
     "text": [
      "/kaggle/input/playground-series-s3e23/sample_submission.csv\n",
      "/kaggle/input/playground-series-s3e23/train.csv\n",
      "/kaggle/input/playground-series-s3e23/test.csv\n"
     ]
    }
   ],
   "source": [
    "import numpy as np # linear algebra\n",
    "import pandas as pd # data processing, CSV file I/O (e.g. pd.read_csv)\n",
    "\n",
    "#ensemble methods\n",
    "from sklearn.ensemble import HistGradientBoostingClassifier\n",
    "\n",
    "#cross fold validation, optimizing for roc auc (my second-favorite metric)\n",
    "from sklearn.model_selection import cross_val_score\n",
    "from sklearn import metrics\n",
    "\n",
    "#all available files\n",
    "import os\n",
    "for dirname, _, filenames in os.walk('/kaggle/input'):\n",
    "    for filename in filenames:\n",
    "        print(os.path.join(dirname, filename))"
   ]
  },
  {
   "cell_type": "code",
   "execution_count": 2,
   "id": "b1f9368e",
   "metadata": {
    "execution": {
     "iopub.execute_input": "2023-10-19T04:14:23.445706Z",
     "iopub.status.busy": "2023-10-19T04:14:23.444991Z",
     "iopub.status.idle": "2023-10-19T04:14:23.985918Z",
     "shell.execute_reply": "2023-10-19T04:14:23.984579Z"
    },
    "papermill": {
     "duration": 0.54788,
     "end_time": "2023-10-19T04:14:23.989282",
     "exception": false,
     "start_time": "2023-10-19T04:14:23.441402",
     "status": "completed"
    },
    "tags": []
   },
   "outputs": [
    {
     "data": {
      "text/html": [
       "<div>\n",
       "<style scoped>\n",
       "    .dataframe tbody tr th:only-of-type {\n",
       "        vertical-align: middle;\n",
       "    }\n",
       "\n",
       "    .dataframe tbody tr th {\n",
       "        vertical-align: top;\n",
       "    }\n",
       "\n",
       "    .dataframe thead th {\n",
       "        text-align: right;\n",
       "    }\n",
       "</style>\n",
       "<table border=\"1\" class=\"dataframe\">\n",
       "  <thead>\n",
       "    <tr style=\"text-align: right;\">\n",
       "      <th></th>\n",
       "      <th>loc</th>\n",
       "      <th>v(g)</th>\n",
       "      <th>ev(g)</th>\n",
       "      <th>iv(g)</th>\n",
       "      <th>n</th>\n",
       "      <th>v</th>\n",
       "      <th>l</th>\n",
       "      <th>d</th>\n",
       "      <th>i</th>\n",
       "      <th>e</th>\n",
       "      <th>...</th>\n",
       "      <th>lOCode</th>\n",
       "      <th>lOComment</th>\n",
       "      <th>lOBlank</th>\n",
       "      <th>locCodeAndComment</th>\n",
       "      <th>uniq_Op</th>\n",
       "      <th>uniq_Opnd</th>\n",
       "      <th>total_Op</th>\n",
       "      <th>total_Opnd</th>\n",
       "      <th>branchCount</th>\n",
       "      <th>defects</th>\n",
       "    </tr>\n",
       "    <tr>\n",
       "      <th>id</th>\n",
       "      <th></th>\n",
       "      <th></th>\n",
       "      <th></th>\n",
       "      <th></th>\n",
       "      <th></th>\n",
       "      <th></th>\n",
       "      <th></th>\n",
       "      <th></th>\n",
       "      <th></th>\n",
       "      <th></th>\n",
       "      <th></th>\n",
       "      <th></th>\n",
       "      <th></th>\n",
       "      <th></th>\n",
       "      <th></th>\n",
       "      <th></th>\n",
       "      <th></th>\n",
       "      <th></th>\n",
       "      <th></th>\n",
       "      <th></th>\n",
       "      <th></th>\n",
       "    </tr>\n",
       "  </thead>\n",
       "  <tbody>\n",
       "    <tr>\n",
       "      <th>0</th>\n",
       "      <td>22.0</td>\n",
       "      <td>3.0</td>\n",
       "      <td>1.0</td>\n",
       "      <td>2.0</td>\n",
       "      <td>60.0</td>\n",
       "      <td>278.63</td>\n",
       "      <td>0.06</td>\n",
       "      <td>19.56</td>\n",
       "      <td>14.25</td>\n",
       "      <td>5448.79</td>\n",
       "      <td>...</td>\n",
       "      <td>17</td>\n",
       "      <td>1</td>\n",
       "      <td>1</td>\n",
       "      <td>0</td>\n",
       "      <td>16.0</td>\n",
       "      <td>9.0</td>\n",
       "      <td>38.0</td>\n",
       "      <td>22.0</td>\n",
       "      <td>5.0</td>\n",
       "      <td>0</td>\n",
       "    </tr>\n",
       "    <tr>\n",
       "      <th>1</th>\n",
       "      <td>14.0</td>\n",
       "      <td>2.0</td>\n",
       "      <td>1.0</td>\n",
       "      <td>2.0</td>\n",
       "      <td>32.0</td>\n",
       "      <td>151.27</td>\n",
       "      <td>0.14</td>\n",
       "      <td>7.00</td>\n",
       "      <td>21.11</td>\n",
       "      <td>936.71</td>\n",
       "      <td>...</td>\n",
       "      <td>11</td>\n",
       "      <td>0</td>\n",
       "      <td>1</td>\n",
       "      <td>0</td>\n",
       "      <td>11.0</td>\n",
       "      <td>11.0</td>\n",
       "      <td>18.0</td>\n",
       "      <td>14.0</td>\n",
       "      <td>3.0</td>\n",
       "      <td>0</td>\n",
       "    </tr>\n",
       "    <tr>\n",
       "      <th>2</th>\n",
       "      <td>11.0</td>\n",
       "      <td>2.0</td>\n",
       "      <td>1.0</td>\n",
       "      <td>2.0</td>\n",
       "      <td>45.0</td>\n",
       "      <td>197.65</td>\n",
       "      <td>0.11</td>\n",
       "      <td>8.05</td>\n",
       "      <td>22.76</td>\n",
       "      <td>1754.01</td>\n",
       "      <td>...</td>\n",
       "      <td>8</td>\n",
       "      <td>0</td>\n",
       "      <td>1</td>\n",
       "      <td>0</td>\n",
       "      <td>12.0</td>\n",
       "      <td>11.0</td>\n",
       "      <td>28.0</td>\n",
       "      <td>17.0</td>\n",
       "      <td>3.0</td>\n",
       "      <td>0</td>\n",
       "    </tr>\n",
       "    <tr>\n",
       "      <th>3</th>\n",
       "      <td>8.0</td>\n",
       "      <td>1.0</td>\n",
       "      <td>1.0</td>\n",
       "      <td>1.0</td>\n",
       "      <td>23.0</td>\n",
       "      <td>94.01</td>\n",
       "      <td>0.19</td>\n",
       "      <td>5.25</td>\n",
       "      <td>17.86</td>\n",
       "      <td>473.66</td>\n",
       "      <td>...</td>\n",
       "      <td>4</td>\n",
       "      <td>0</td>\n",
       "      <td>2</td>\n",
       "      <td>0</td>\n",
       "      <td>8.0</td>\n",
       "      <td>6.0</td>\n",
       "      <td>16.0</td>\n",
       "      <td>7.0</td>\n",
       "      <td>1.0</td>\n",
       "      <td>1</td>\n",
       "    </tr>\n",
       "    <tr>\n",
       "      <th>4</th>\n",
       "      <td>11.0</td>\n",
       "      <td>2.0</td>\n",
       "      <td>1.0</td>\n",
       "      <td>2.0</td>\n",
       "      <td>17.0</td>\n",
       "      <td>60.94</td>\n",
       "      <td>0.18</td>\n",
       "      <td>5.63</td>\n",
       "      <td>12.44</td>\n",
       "      <td>365.67</td>\n",
       "      <td>...</td>\n",
       "      <td>7</td>\n",
       "      <td>0</td>\n",
       "      <td>2</td>\n",
       "      <td>0</td>\n",
       "      <td>7.0</td>\n",
       "      <td>6.0</td>\n",
       "      <td>10.0</td>\n",
       "      <td>10.0</td>\n",
       "      <td>3.0</td>\n",
       "      <td>0</td>\n",
       "    </tr>\n",
       "  </tbody>\n",
       "</table>\n",
       "<p>5 rows × 22 columns</p>\n",
       "</div>"
      ],
      "text/plain": [
       "     loc  v(g)  ev(g)  iv(g)     n       v     l      d      i        e  ...  \\\n",
       "id                                                                       ...   \n",
       "0   22.0   3.0    1.0    2.0  60.0  278.63  0.06  19.56  14.25  5448.79  ...   \n",
       "1   14.0   2.0    1.0    2.0  32.0  151.27  0.14   7.00  21.11   936.71  ...   \n",
       "2   11.0   2.0    1.0    2.0  45.0  197.65  0.11   8.05  22.76  1754.01  ...   \n",
       "3    8.0   1.0    1.0    1.0  23.0   94.01  0.19   5.25  17.86   473.66  ...   \n",
       "4   11.0   2.0    1.0    2.0  17.0   60.94  0.18   5.63  12.44   365.67  ...   \n",
       "\n",
       "    lOCode  lOComment  lOBlank  locCodeAndComment  uniq_Op  uniq_Opnd  \\\n",
       "id                                                                      \n",
       "0       17          1        1                  0     16.0        9.0   \n",
       "1       11          0        1                  0     11.0       11.0   \n",
       "2        8          0        1                  0     12.0       11.0   \n",
       "3        4          0        2                  0      8.0        6.0   \n",
       "4        7          0        2                  0      7.0        6.0   \n",
       "\n",
       "    total_Op  total_Opnd  branchCount  defects  \n",
       "id                                              \n",
       "0       38.0        22.0          5.0        0  \n",
       "1       18.0        14.0          3.0        0  \n",
       "2       28.0        17.0          3.0        0  \n",
       "3       16.0         7.0          1.0        1  \n",
       "4       10.0        10.0          3.0        0  \n",
       "\n",
       "[5 rows x 22 columns]"
      ]
     },
     "execution_count": 2,
     "metadata": {},
     "output_type": "execute_result"
    }
   ],
   "source": [
    "# IO of training data\n",
    "# string -> binary\n",
    "raw_df = pd.read_csv(\n",
    "    '/kaggle/input/playground-series-s3e23/train.csv', \n",
    "    header=0,\n",
    "    converters={'defects': lambda x: int(x == 'True')}\n",
    ")\n",
    "df = raw_df.set_index(['id'])\n",
    "df.head()"
   ]
  },
  {
   "cell_type": "code",
   "execution_count": 3,
   "id": "b9251359",
   "metadata": {
    "execution": {
     "iopub.execute_input": "2023-10-19T04:14:23.996514Z",
     "iopub.status.busy": "2023-10-19T04:14:23.996139Z",
     "iopub.status.idle": "2023-10-19T04:14:24.022150Z",
     "shell.execute_reply": "2023-10-19T04:14:24.020933Z"
    },
    "papermill": {
     "duration": 0.032481,
     "end_time": "2023-10-19T04:14:24.024539",
     "exception": false,
     "start_time": "2023-10-19T04:14:23.992058",
     "status": "completed"
    },
    "tags": []
   },
   "outputs": [],
   "source": [
    "#feature engineering\n",
    "\n",
    "# I have a hunch that complexity increases defect risk log, not exp\n",
    "df['v(g)rt'] = df['v(g)']**0.5\n",
    "df['ev(g)rt'] = df['ev(g)']**0.5\n",
    "df['iv(g)rt'] = df['iv(g)']**0.5\n",
    "\n",
    "y = df['defects']\n",
    "x = df.drop(columns=['defects'])"
   ]
  },
  {
   "cell_type": "code",
   "execution_count": 4,
   "id": "093a1774",
   "metadata": {
    "execution": {
     "iopub.execute_input": "2023-10-19T04:14:24.033027Z",
     "iopub.status.busy": "2023-10-19T04:14:24.031499Z",
     "iopub.status.idle": "2023-10-19T04:14:24.628871Z",
     "shell.execute_reply": "2023-10-19T04:14:24.627995Z"
    },
    "papermill": {
     "duration": 0.604196,
     "end_time": "2023-10-19T04:14:24.631516",
     "exception": false,
     "start_time": "2023-10-19T04:14:24.027320",
     "status": "completed"
    },
    "tags": []
   },
   "outputs": [],
   "source": [
    "clf = HistGradientBoostingClassifier(max_iter=10000000000, learning_rate=0.5).fit(x, y)"
   ]
  },
  {
   "cell_type": "code",
   "execution_count": 5,
   "id": "4935bebb",
   "metadata": {
    "execution": {
     "iopub.execute_input": "2023-10-19T04:14:24.640556Z",
     "iopub.status.busy": "2023-10-19T04:14:24.639425Z",
     "iopub.status.idle": "2023-10-19T04:14:27.198673Z",
     "shell.execute_reply": "2023-10-19T04:14:27.197683Z"
    },
    "papermill": {
     "duration": 2.566489,
     "end_time": "2023-10-19T04:14:27.201535",
     "exception": false,
     "start_time": "2023-10-19T04:14:24.635046",
     "status": "completed"
    },
    "tags": []
   },
   "outputs": [
    {
     "name": "stdout",
     "output_type": "stream",
     "text": [
      "Accuracy: 0.7861685188873909 \n",
      "StdDev: 0.0025524152310859756\n"
     ]
    }
   ],
   "source": [
    "#score the classifier using cross-fold validation\n",
    "scores = cross_val_score(clf, x, y, cv=5, scoring='roc_auc')\n",
    "print(f\"Accuracy: {scores.mean()} \\nStdDev: {scores.std()}\")"
   ]
  },
  {
   "cell_type": "code",
   "execution_count": 6,
   "id": "b574d140",
   "metadata": {
    "execution": {
     "iopub.execute_input": "2023-10-19T04:14:27.209842Z",
     "iopub.status.busy": "2023-10-19T04:14:27.209313Z",
     "iopub.status.idle": "2023-10-19T04:14:27.761895Z",
     "shell.execute_reply": "2023-10-19T04:14:27.760792Z"
    },
    "papermill": {
     "duration": 0.559371,
     "end_time": "2023-10-19T04:14:27.764456",
     "exception": false,
     "start_time": "2023-10-19T04:14:27.205085",
     "status": "completed"
    },
    "tags": []
   },
   "outputs": [],
   "source": [
    "test_df = pd.read_csv(\n",
    "    '/kaggle/input/playground-series-s3e23/test.csv', \n",
    "    header=0,\n",
    "    converters={'defects': lambda x: int(x == 'True')}\n",
    ")\n",
    "test_df['v(g)rt'] = test_df['v(g)']**0.5\n",
    "test_df['ev(g)rt'] = test_df['ev(g)']**0.5\n",
    "test_df['iv(g)rt'] = test_df['iv(g)']**0.5\n",
    "x_test = test_df.drop(columns=['id'])\n",
    "preds = clf.predict_proba(x_test)\n",
    "pred_fails = [pred[1] for pred in preds]\n",
    "submission = pd.DataFrame({'id':test_df['id'], 'defects':pred_fails}, columns=['id', 'defects'])\n",
    "submission.to_csv('submission.csv', index=False)"
   ]
  }
 ],
 "metadata": {
  "kernelspec": {
   "display_name": "Python 3",
   "language": "python",
   "name": "python3"
  },
  "language_info": {
   "codemirror_mode": {
    "name": "ipython",
    "version": 3
   },
   "file_extension": ".py",
   "mimetype": "text/x-python",
   "name": "python",
   "nbconvert_exporter": "python",
   "pygments_lexer": "ipython3",
   "version": "3.10.12"
  },
  "papermill": {
   "default_parameters": {},
   "duration": 10.592379,
   "end_time": "2023-10-19T04:14:28.387391",
   "environment_variables": {},
   "exception": null,
   "input_path": "__notebook__.ipynb",
   "output_path": "__notebook__.ipynb",
   "parameters": {},
   "start_time": "2023-10-19T04:14:17.795012",
   "version": "2.4.0"
  }
 },
 "nbformat": 4,
 "nbformat_minor": 5
}
